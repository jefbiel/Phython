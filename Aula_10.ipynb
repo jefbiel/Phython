{
 "cells": [
  {
   "cell_type": "code",
   "execution_count": 3,
   "metadata": {},
   "outputs": [],
   "source": [
    "def funcao (a, b):\n",
    "    soma = a + b\n",
    "    return soma\n"
   ]
  },
  {
   "cell_type": "code",
   "execution_count": 4,
   "metadata": {},
   "outputs": [
    {
     "data": {
      "text/plain": [
       "100.0"
      ]
     },
     "execution_count": 4,
     "metadata": {},
     "output_type": "execute_result"
    }
   ],
   "source": [
    "def area_do_quadrado(lado):\n",
    "    area = lado **2\n",
    "    return area\n",
    "\n",
    "lado = float(input(\"Insira o valor do lado do quadrado:\"))\n",
    "\n",
    "area_do_quadrado(lado)"
   ]
  },
  {
   "cell_type": "code",
   "execution_count": 5,
   "metadata": {},
   "outputs": [],
   "source": [
    "def soma(a, b, imprime = False):\n",
    "    s = a + b\n",
    "    if imprime:\n",
    "        print(s)\n",
    "    return s"
   ]
  },
  {
   "cell_type": "code",
   "execution_count": 10,
   "metadata": {},
   "outputs": [
    {
     "name": "stdout",
     "output_type": "stream",
     "text": [
      "Olá, mundo!!!\n",
      "Phyton é legal\n",
      "Phyton é legal\n",
      "Phyton é legal\n"
     ]
    }
   ],
   "source": [
    "def exibir_mensagem(mensagem, vezes = 1):\n",
    "    for i in range(vezes):\n",
    "        print(mensagem)\n",
    "\n",
    "exibir_mensagem(\"Olá, mundo!!!\")\n",
    "exibir_mensagem(\"Phyton é legal\", 3)"
   ]
  },
  {
   "cell_type": "code",
   "execution_count": 13,
   "metadata": {},
   "outputs": [],
   "source": [
    "def pesquise(lista,valor):\n",
    "    \n",
    "    for x, i in enumerate(lista):\n",
    "        if i== valor:\n",
    "            return x\n",
    "        return None\n",
    "    L = [10,20,25,30]\n",
    "\n",
    "    print(pesquise(L,10))\n",
    "    print(pesquise(L,25))"
   ]
  },
  {
   "cell_type": "code",
   "execution_count": null,
   "metadata": {},
   "outputs": [],
   "source": []
  }
 ],
 "metadata": {
  "kernelspec": {
   "display_name": "Python 3",
   "language": "python",
   "name": "python3"
  },
  "language_info": {
   "codemirror_mode": {
    "name": "ipython",
    "version": 3
   },
   "file_extension": ".py",
   "mimetype": "text/x-python",
   "name": "python",
   "nbconvert_exporter": "python",
   "pygments_lexer": "ipython3",
   "version": "3.11.4"
  },
  "orig_nbformat": 4
 },
 "nbformat": 4,
 "nbformat_minor": 2
}
