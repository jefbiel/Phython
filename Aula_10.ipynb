{
 "cells": [
  {
   "cell_type": "code",
   "execution_count": 3,
   "metadata": {},
   "outputs": [],
   "source": [
    "def funcao (a, b):\n",
    "    soma = a + b\n",
    "    return soma\n"
   ]
  },
  {
   "cell_type": "code",
   "execution_count": 4,
   "metadata": {},
   "outputs": [
    {
     "data": {
      "text/plain": [
       "100.0"
      ]
     },
     "execution_count": 4,
     "metadata": {},
     "output_type": "execute_result"
    }
   ],
   "source": [
    "def area_do_quadrado(lado):\n",
    "    area = lado **2\n",
    "    return area\n",
    "\n",
    "lado = float(input(\"Insira o valor do lado do quadrado:\"))\n",
    "\n",
    "area_do_quadrado(lado)"
   ]
  },
  {
   "cell_type": "code",
   "execution_count": 5,
   "metadata": {},
   "outputs": [],
   "source": [
    "def soma(a, b, imprime = False):\n",
    "    s = a + b\n",
    "    if imprime:\n",
    "        print(s)\n",
    "    return s"
   ]
  },
  {
   "cell_type": "code",
   "execution_count": 10,
   "metadata": {},
   "outputs": [
    {
     "name": "stdout",
     "output_type": "stream",
     "text": [
      "Olá, mundo!!!\n",
      "Phyton é legal\n",
      "Phyton é legal\n",
      "Phyton é legal\n"
     ]
    }
   ],
   "source": [
    "def exibir_mensagem(mensagem, vezes = 1):\n",
    "    for i in range(vezes):\n",
    "        print(mensagem)\n",
    "\n",
    "exibir_mensagem(\"Olá, mundo!!!\")\n",
    "exibir_mensagem(\"Phyton é legal\", 3)"
   ]
  },
  {
   "cell_type": "code",
   "execution_count": 13,
   "metadata": {},
   "outputs": [],
   "source": [
    "def pesquise(lista,valor):\n",
    "    \n",
    "    for x, i in enumerate(lista):\n",
    "        if i== valor:\n",
    "            return x\n",
    "        return None\n",
    "    L = [10,20,25,30]\n",
    "\n",
    "    print(pesquise(L,10))\n",
    "    print(pesquise(L,25))"
   ]
  },
  {
   "cell_type": "code",
   "execution_count": 16,
   "metadata": {},
   "outputs": [
    {
     "name": "stdout",
     "output_type": "stream",
     "text": [
      "85\n",
      "21.25\n"
     ]
    }
   ],
   "source": [
    "L = [10,20,25,30]\n",
    "\n",
    "#Define uma função soma que tem como parâmetro o L\n",
    "def soma(L):\n",
    "    total = 0\n",
    "    for i in L:\n",
    "        total += i\n",
    "    return total\n",
    "\n",
    "def media(L):\n",
    "    return soma(L)/len(L)\n",
    "\n",
    "print(soma(L))\n",
    "print(media(L))\n"
   ]
  },
  {
   "cell_type": "code",
   "execution_count": 40,
   "metadata": {},
   "outputs": [
    {
     "name": "stdout",
     "output_type": "stream",
     "text": [
      "30.0\n"
     ]
    }
   ],
   "source": [
    "L = [10, 15,20,25,30,35,40,45,50]\n",
    "\n",
    "def soma(L):\n",
    "    total = 0\n",
    "    for i in L:\n",
    "        total += i\n",
    "    return total\n",
    "\n",
    "def media(L):\n",
    "    return soma(L)/len(L)\n",
    "\n",
    "print(media(L))\n",
    "\n",
    "\n"
   ]
  },
  {
   "cell_type": "code",
   "execution_count": 37,
   "metadata": {},
   "outputs": [
    {
     "name": "stdout",
     "output_type": "stream",
     "text": [
      "10.0\n"
     ]
    }
   ],
   "source": [
    "base = float(input(\"Insira a base\"))\n",
    "altura = float(input(\"Insira a altura:\"))\n",
    "\n",
    "def triangulo(base,altura):\n",
    "    area = (base * alt)/2\n",
    "    return area\n",
    "\n",
    "print(triangulo(base, altura))\n"
   ]
  },
  {
   "cell_type": "code",
   "execution_count": 35,
   "metadata": {},
   "outputs": [
    {
     "name": "stdout",
     "output_type": "stream",
     "text": [
      "2.0\n"
     ]
    }
   ],
   "source": [
    "larg = float(input(\"Insira a largura do cubo \"))\n",
    "comp = float(input(\"Insira o comprimento do cubo:\"))\n",
    "alt = float(input(\"Insira o comprimento do cubo:\"))\n",
    "\n",
    "def volume(larg, alt, comp):\n",
    "    area = (larg * alt* comp)\n",
    "    return area\n",
    "\n",
    "print(volume(larg, alt, comp))\n",
    "\n"
   ]
  },
  {
   "cell_type": "code",
   "execution_count": 46,
   "metadata": {},
   "outputs": [
    {
     "name": "stdout",
     "output_type": "stream",
     "text": [
      "A área é 4.0 m²\n"
     ]
    }
   ],
   "source": [
    "larg = float(input(\"Insira a largura da sala \"))\n",
    "comp = float(input(\"Insira o comprimento da sala:\"))\n",
    "\n",
    "def area_da_sala(larg, comp):\n",
    "    area = larg * comp\n",
    "    return area\n",
    "\n",
    "print(f\"A área é {area_da_sala(larg, comp)} m²\")"
   ]
  },
  {
   "cell_type": "code",
   "execution_count": null,
   "metadata": {},
   "outputs": [],
   "source": []
  },
  {
   "cell_type": "code",
   "execution_count": null,
   "metadata": {},
   "outputs": [],
   "source": []
  }
 ],
 "metadata": {
  "kernelspec": {
   "display_name": "Python 3",
   "language": "python",
   "name": "python3"
  },
  "language_info": {
   "codemirror_mode": {
    "name": "ipython",
    "version": 3
   },
   "file_extension": ".py",
   "mimetype": "text/x-python",
   "name": "python",
   "nbconvert_exporter": "python",
   "pygments_lexer": "ipython3",
   "version": "3.11.4"
  },
  "orig_nbformat": 4
 },
 "nbformat": 4,
 "nbformat_minor": 2
}
